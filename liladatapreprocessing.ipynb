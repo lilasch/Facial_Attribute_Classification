{
  "nbformat": 4,
  "nbformat_minor": 0,
  "metadata": {
    "colab": {
      "provenance": [],
      "include_colab_link": true
    },
    "kernelspec": {
      "name": "python3",
      "display_name": "Python 3"
    },
    "language_info": {
      "name": "python"
    }
  },
  "cells": [
    {
      "cell_type": "markdown",
      "metadata": {
        "id": "view-in-github",
        "colab_type": "text"
      },
      "source": [
        "<a href=\"https://colab.research.google.com/github/lilasch/Facial_Attribute_Classification/blob/main/liladatapreprocessing.ipynb\" target=\"_parent\"><img src=\"https://colab.research.google.com/assets/colab-badge.svg\" alt=\"Open In Colab\"/></a>"
      ]
    },
    {
      "cell_type": "markdown",
      "source": [
        "**Facial Attribute Classification**\n",
        "\n",
        "Lila Schisgal and Phoebe Jeske\n"
      ],
      "metadata": {
        "id": "gUz8sUaAIqQj"
      }
    },
    {
      "cell_type": "markdown",
      "source": [
        "First, we import our data from two text files and partition it into training and validation data."
      ],
      "metadata": {
        "id": "EEiHEhSWtsT0"
      }
    },
    {
      "cell_type": "code",
      "execution_count": null,
      "metadata": {
        "id": "y-AnqGT9HudD",
        "colab": {
          "base_uri": "https://localhost:8080/"
        },
        "outputId": "b8ff0655-f763-49e3-90ea-5b0ad9e84101"
      },
      "outputs": [
        {
          "output_type": "stream",
          "name": "stdout",
          "text": [
            "Mounted at /content/drive\n"
          ]
        },
        {
          "output_type": "stream",
          "name": "stderr",
          "text": [
            "<ipython-input-16-e8088da7fb98>:16: ParserWarning: Falling back to the 'python' engine because the 'c' engine does not support regex separators (separators > 1 char and different from '\\s+' are interpreted as regex); you can avoid this warning by specifying engine='python'.\n",
            "  attributes = pd.read_csv(\"/content/drive/MyDrive/list_attr_celeba.txt\", skiprows = 1, delimiter=\"\\s+|\\t\")\n",
            "<ipython-input-16-e8088da7fb98>:19: ParserWarning: Falling back to the 'python' engine because the 'c' engine does not support regex separators (separators > 1 char and different from '\\s+' are interpreted as regex); you can avoid this warning by specifying engine='python'.\n",
            "  partitions = pd.read_csv(\"/content/drive/MyDrive/list_eval_partition.txt\", delimiter=\"\\s+|\\t\", header = None)\n"
          ]
        }
      ],
      "source": [
        "import tensorflow.keras as keras\n",
        "import pandas as pd\n",
        "import cv2\n",
        "#import autotrace\n",
        "import numpy as np\n",
        "import glob\n",
        "\n",
        "\n",
        "from google.colab import drive\n",
        "drive.mount('/content/drive', force_remount = True)\n",
        "\n",
        "# 40 attributes in total\n",
        "num_attributes = 40\n",
        "\n",
        "# Load attributes csv\n",
        "attributes = pd.read_csv(\"/content/drive/MyDrive/list_attr_celeba.txt\", skiprows = 1, delimiter=\"\\s+|\\t\")\n",
        "\n",
        "# Load csv with partitions values\n",
        "partitions = pd.read_csv(\"/content/drive/MyDrive/list_eval_partition.txt\", delimiter=\"\\s+|\\t\", header = None)\n",
        "\n",
        "partitions.columns = ['image_name', 'dataset'] # setting column header names for partitions\n",
        "attributes['dataset'] = partitions['dataset'].values # copying the partition values into the attributes df\n",
        "\n",
        "# filter so just the eyeglasses attribute is included\n",
        "glasses_df = attributes.iloc[:, [15, num_attributes]]\n",
        "\n",
        "# partitioning the data\n",
        "train_df = glasses_df[glasses_df['dataset'] == 0]\n",
        "valid_df = glasses_df[glasses_df['dataset'] == 1]\n"
      ]
    },
    {
      "cell_type": "code",
      "source": [
        "print(train_df)"
      ],
      "metadata": {
        "colab": {
          "base_uri": "https://localhost:8080/"
        },
        "id": "-jNoX_nf3lgJ",
        "outputId": "0c9f138d-24c2-4aa1-a43c-89b479deb9b6"
      },
      "execution_count": null,
      "outputs": [
        {
          "output_type": "stream",
          "name": "stdout",
          "text": [
            "            Eyeglasses  dataset\n",
            "000001.jpg          -1        0\n",
            "000002.jpg          -1        0\n",
            "000003.jpg          -1        0\n",
            "000004.jpg          -1        0\n",
            "000005.jpg          -1        0\n",
            "...                ...      ...\n",
            "162766.jpg          -1        0\n",
            "162767.jpg          -1        0\n",
            "162768.jpg          -1        0\n",
            "162769.jpg          -1        0\n",
            "162770.jpg          -1        0\n",
            "\n",
            "[162770 rows x 2 columns]\n"
          ]
        }
      ]
    },
    {
      "cell_type": "markdown",
      "source": [
        "We then separate our target y values and image filenames in preparation for accessing the actual images as vectors."
      ],
      "metadata": {
        "id": "Qx3tdo-ptvGs"
      }
    },
    {
      "cell_type": "code",
      "source": [
        "# separating out target values\n",
        "y_train = train_df['Eyeglasses']\n",
        "y_valid = valid_df['Eyeglasses']\n",
        "del train_df['Eyeglasses']\n",
        "del valid_df['Eyeglasses']\n",
        "\n",
        "# getting our image file names in two arrays\n",
        "train_files = train_df.index\n",
        "valid_files = valid_df.index\n",
        "\n",
        "# Some visualization of these datasets\n",
        "# attributes.head()\n",
        "# glasses_df.head()\n",
        "# print(train_files[0])"
      ],
      "metadata": {
        "id": "MthRR0smTS8V"
      },
      "execution_count": null,
      "outputs": []
    },
    {
      "cell_type": "code",
      "source": [
        "# unzipping image data\n",
        "import zipfile\n",
        "zippath = '/content/sample_data/Celeba.zip'\n",
        "targetfolder = '/content/sample_data'\n",
        "\n",
        "with zipfile.ZipFile(zippath, 'r') as zip_ref:\n",
        "    zip_ref.extractall(targetfolder)"
      ],
      "metadata": {
        "colab": {
          "base_uri": "https://localhost:8080/",
          "height": 347
        },
        "id": "wmZnyF124m-G",
        "outputId": "6c5dec67-3cc3-414e-ebf3-8a2bfb261912"
      },
      "execution_count": null,
      "outputs": [
        {
          "output_type": "error",
          "ename": "BadZipFile",
          "evalue": "File is not a zip file",
          "traceback": [
            "\u001b[0;31m---------------------------------------------------------------------------\u001b[0m",
            "\u001b[0;31mBadZipFile\u001b[0m                                Traceback (most recent call last)",
            "\u001b[0;32m<ipython-input-39-5872448c5593>\u001b[0m in \u001b[0;36m<cell line: 6>\u001b[0;34m()\u001b[0m\n\u001b[1;32m      4\u001b[0m \u001b[0mtargetfolder\u001b[0m \u001b[0;34m=\u001b[0m \u001b[0;34m'/content/sample_data'\u001b[0m\u001b[0;34m\u001b[0m\u001b[0;34m\u001b[0m\u001b[0m\n\u001b[1;32m      5\u001b[0m \u001b[0;34m\u001b[0m\u001b[0m\n\u001b[0;32m----> 6\u001b[0;31m \u001b[0;32mwith\u001b[0m \u001b[0mzipfile\u001b[0m\u001b[0;34m.\u001b[0m\u001b[0mZipFile\u001b[0m\u001b[0;34m(\u001b[0m\u001b[0mzippath\u001b[0m\u001b[0;34m,\u001b[0m \u001b[0;34m'r'\u001b[0m\u001b[0;34m)\u001b[0m \u001b[0;32mas\u001b[0m \u001b[0mzip_ref\u001b[0m\u001b[0;34m:\u001b[0m\u001b[0;34m\u001b[0m\u001b[0;34m\u001b[0m\u001b[0m\n\u001b[0m\u001b[1;32m      7\u001b[0m     \u001b[0mzip_ref\u001b[0m\u001b[0;34m.\u001b[0m\u001b[0mextractall\u001b[0m\u001b[0;34m(\u001b[0m\u001b[0mtargetfolder\u001b[0m\u001b[0;34m)\u001b[0m\u001b[0;34m\u001b[0m\u001b[0;34m\u001b[0m\u001b[0m\n",
            "\u001b[0;32m/usr/lib/python3.10/zipfile.py\u001b[0m in \u001b[0;36m__init__\u001b[0;34m(self, file, mode, compression, allowZip64, compresslevel, strict_timestamps)\u001b[0m\n\u001b[1;32m   1267\u001b[0m         \u001b[0;32mtry\u001b[0m\u001b[0;34m:\u001b[0m\u001b[0;34m\u001b[0m\u001b[0;34m\u001b[0m\u001b[0m\n\u001b[1;32m   1268\u001b[0m             \u001b[0;32mif\u001b[0m \u001b[0mmode\u001b[0m \u001b[0;34m==\u001b[0m \u001b[0;34m'r'\u001b[0m\u001b[0;34m:\u001b[0m\u001b[0;34m\u001b[0m\u001b[0;34m\u001b[0m\u001b[0m\n\u001b[0;32m-> 1269\u001b[0;31m                 \u001b[0mself\u001b[0m\u001b[0;34m.\u001b[0m\u001b[0m_RealGetContents\u001b[0m\u001b[0;34m(\u001b[0m\u001b[0;34m)\u001b[0m\u001b[0;34m\u001b[0m\u001b[0;34m\u001b[0m\u001b[0m\n\u001b[0m\u001b[1;32m   1270\u001b[0m             \u001b[0;32melif\u001b[0m \u001b[0mmode\u001b[0m \u001b[0;32min\u001b[0m \u001b[0;34m(\u001b[0m\u001b[0;34m'w'\u001b[0m\u001b[0;34m,\u001b[0m \u001b[0;34m'x'\u001b[0m\u001b[0;34m)\u001b[0m\u001b[0;34m:\u001b[0m\u001b[0;34m\u001b[0m\u001b[0;34m\u001b[0m\u001b[0m\n\u001b[1;32m   1271\u001b[0m                 \u001b[0;31m# set the modified flag so central directory gets written\u001b[0m\u001b[0;34m\u001b[0m\u001b[0;34m\u001b[0m\u001b[0m\n",
            "\u001b[0;32m/usr/lib/python3.10/zipfile.py\u001b[0m in \u001b[0;36m_RealGetContents\u001b[0;34m(self)\u001b[0m\n\u001b[1;32m   1334\u001b[0m             \u001b[0;32mraise\u001b[0m \u001b[0mBadZipFile\u001b[0m\u001b[0;34m(\u001b[0m\u001b[0;34m\"File is not a zip file\"\u001b[0m\u001b[0;34m)\u001b[0m\u001b[0;34m\u001b[0m\u001b[0;34m\u001b[0m\u001b[0m\n\u001b[1;32m   1335\u001b[0m         \u001b[0;32mif\u001b[0m \u001b[0;32mnot\u001b[0m \u001b[0mendrec\u001b[0m\u001b[0;34m:\u001b[0m\u001b[0;34m\u001b[0m\u001b[0;34m\u001b[0m\u001b[0m\n\u001b[0;32m-> 1336\u001b[0;31m             \u001b[0;32mraise\u001b[0m \u001b[0mBadZipFile\u001b[0m\u001b[0;34m(\u001b[0m\u001b[0;34m\"File is not a zip file\"\u001b[0m\u001b[0;34m)\u001b[0m\u001b[0;34m\u001b[0m\u001b[0;34m\u001b[0m\u001b[0m\n\u001b[0m\u001b[1;32m   1337\u001b[0m         \u001b[0;32mif\u001b[0m \u001b[0mself\u001b[0m\u001b[0;34m.\u001b[0m\u001b[0mdebug\u001b[0m \u001b[0;34m>\u001b[0m \u001b[0;36m1\u001b[0m\u001b[0;34m:\u001b[0m\u001b[0;34m\u001b[0m\u001b[0;34m\u001b[0m\u001b[0m\n\u001b[1;32m   1338\u001b[0m             \u001b[0mprint\u001b[0m\u001b[0;34m(\u001b[0m\u001b[0mendrec\u001b[0m\u001b[0;34m)\u001b[0m\u001b[0;34m\u001b[0m\u001b[0;34m\u001b[0m\u001b[0m\n",
            "\u001b[0;31mBadZipFile\u001b[0m: File is not a zip file"
          ]
        }
      ]
    },
    {
      "cell_type": "markdown",
      "source": [
        "Next: need to access the images from the dataset and put them into a set of vectors."
      ],
      "metadata": {
        "id": "cARSstsgtz11"
      }
    },
    {
      "cell_type": "code",
      "source": [
        "import os\n",
        "import numpy as np\n",
        "from PIL import Image\n",
        "from sklearn.preprocessing import StandardScaler\n",
        "import matplotlib.pyplot as plt\n",
        "\n",
        "# Set your folder paths\n",
        "input_folder = \"/content/drive/MyDrive/images_celebA\"\n",
        "output_folder = \"/content/drive/MyDrive/preprocessed_images\"\n",
        "\n",
        "# Function to normalize images\n",
        "def normalize_images(folder_path):\n",
        "    for filename in os.listdir(folder_path):\n",
        "        if filename.endswith(\".jpg\"):\n",
        "            img_path = os.path.join(folder_path, filename)\n",
        "            print(img_path)\n",
        "            img = Image.open(img_path)\n",
        "            img_array = np.array(img)\n",
        "            print(img_array.shape)\n",
        "            flattened_dim = 218 * 178 * 3\n",
        "            img_processed = img_array.reshape(-1, flattened_dim)\n",
        "            img_processed = img_processed.astype(float)\n",
        "\n",
        "def standardize(train, test, valid):\n",
        "    mean = np.mean(train)\n",
        "    std = np.std(train)\n",
        "\n",
        "    train = (train - mean)/std\n",
        "    valid = (valid - mean)/std\n",
        "    test  = (test - mean)/std\n",
        "\n",
        "    return train, valid, test\n",
        "\n",
        "# Apply preprocessing steps\n",
        "normalize_images(input_folder)\n"
      ],
      "metadata": {
        "colab": {
          "base_uri": "https://localhost:8080/"
        },
        "id": "HD7futHFwkgc",
        "outputId": "f9e8c7be-6870-49a9-da44-155f0cd7e0ae"
      },
      "execution_count": null,
      "outputs": [
        {
          "output_type": "stream",
          "name": "stdout",
          "text": [
            "/content/drive/MyDrive/images_celebA/000002.jpg\n",
            "(218, 178, 3)\n",
            "/content/drive/MyDrive/images_celebA/000008.jpg\n",
            "(218, 178, 3)\n",
            "/content/drive/MyDrive/images_celebA/000010.jpg\n",
            "(218, 178, 3)\n",
            "/content/drive/MyDrive/images_celebA/000001.jpg\n",
            "(218, 178, 3)\n",
            "/content/drive/MyDrive/images_celebA/000004.jpg\n",
            "(218, 178, 3)\n",
            "/content/drive/MyDrive/images_celebA/000009.jpg\n",
            "(218, 178, 3)\n",
            "/content/drive/MyDrive/images_celebA/000003.jpg\n",
            "(218, 178, 3)\n",
            "/content/drive/MyDrive/images_celebA/000007.jpg\n",
            "(218, 178, 3)\n",
            "/content/drive/MyDrive/images_celebA/000005.jpg\n",
            "(218, 178, 3)\n",
            "/content/drive/MyDrive/images_celebA/000006.jpg\n",
            "(218, 178, 3)\n"
          ]
        }
      ]
    },
    {
      "cell_type": "code",
      "source": [],
      "metadata": {
        "id": "AMjKzM895w99"
      },
      "execution_count": null,
      "outputs": []
    }
  ]
}